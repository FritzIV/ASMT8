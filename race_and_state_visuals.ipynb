{
 "cells": [
  {
   "cell_type": "code",
   "execution_count": null,
   "metadata": {},
   "outputs": [],
   "source": [
    "import seaborn as sns\n",
    "\n",
    "from matplotlib.ticker import FuncFormatter\n",
    "def add_commas(x,pos):\n",
    "    return '{:,}'.format(int(x))\n",
    "plt.gca().yaxis.get_major_formatter().set_scientific(False)\n",
    "\n",
    "\n",
    "\n",
    "\n",
    "af = companies_clean[(companies_clean['RACE_GROUP_LABEL'] == 'White')| (companies_clean['RACE_GROUP_LABEL'] == 'Black or African American') | (companies_clean['RACE_GROUP_LABEL'] == 'Asian') ]\n",
    "af = af.groupby([\"RACE_GROUP_LABEL\"]).agg({\"FIRMPDEMP\":\"max\"})\n",
    "\n",
    "df = af.groupby([\"RACE_GROUP_LABEL\"])[\"FIRMPDEMP\"].sum()\n",
    "ax = df.plot(kind=\"bar\", figsize=(15, 6), colormap='Paired')\n",
    "\n",
    "\n",
    "\n",
    "x = [\"Asian \", \"Black\", \"White\"]\n",
    "\n",
    "ax.set(xlabel='Race', ylabel='Count')\n",
    "ax.yaxis.set_major_formatter(FuncFormatter(add_commas))\n",
    "plt.xticks(range(len(x)), x)\n",
    "\n",
    "plt.rcParams.update({'font.size': 25})"
   ]
  },
  {
   "cell_type": "code",
   "execution_count": null,
   "metadata": {},
   "outputs": [],
   "source": [
    "from matplotlib.ticker import FuncFormatter\n",
    "def add_commas(x,pos):\n",
    "    return '{:,}'.format(int(x))\n",
    "plt.gca().yaxis.get_major_formatter().set_scientific(False)\n",
    "\n",
    "\n",
    "ao = companies_clean[(companies_clean['RACE_GROUP_LABEL'] == 'White')| (companies_clean['RACE_GROUP_LABEL'] == 'Black or African American') | (companies_clean['RACE_GROUP_LABEL'] == 'Asian') ]\n",
    "zi = sns.barplot(data=ao, x=\"RACE_GROUP_LABEL\", y=(ao[\"RCPPDEMP\"]/ao[\"FIRMPDEMP\"]))\n",
    "\n",
    "zi.set(xlabel='Race', ylabel='Revenue')\n",
    "zi.bar_label(zi.containers[0], label_type='edge')"
   ]
  },
  {
   "cell_type": "code",
   "execution_count": null,
   "metadata": {},
   "outputs": [],
   "source": [
    "\n",
    "big = companies3[(companies3['NAICS2017_LABEL'] == 'Total for all sectors') & (companies3['SEX_LABEL'] == 'Total') & (companies3['ETH_GROUP_LABEL'] == 'Total') & (companies3['RACE_GROUP_LABEL'] == 'Total') & (companies3['VET_GROUP_LABEL'] == 'Total') & (companies3['EMPSZFI_LABEL'] == 'All firms')]\n",
    "\n",
    "ai =big[(big['RCPSZFI_LABEL'] == 'Firms with sales/receipts of $1,000,000 or more')]\n",
    "\n",
    "\n",
    "\n",
    "ai2 = ai[['NAME','FIRMPDEMP']]\n",
    "\n",
    "ai2['FIRMPDEMP'] = ai2['FIRMPDEMP'].astype('int64')\n",
    "\n",
    "ai2.sort_values(by='FIRMPDEMP', inplace=True)\n",
    "\n",
    "wo = sns.barplot(x=\"NAME\", y=\"FIRMPDEMP\", data=ai2, order=ai2.sort_values(\"FIRMPDEMP\")[\"NAME\"].iloc[-5:])\n",
    "wo.set(xlabel='State', ylabel='Count')\n",
    "wo"
   ]
  },
  {
   "cell_type": "code",
   "execution_count": null,
   "metadata": {},
   "outputs": [],
   "source": [
    "ai = companies3[(companies3['RCPSZFI_LABEL'] == 'Firms with sales/receipts of $1,000,000 or more')]\n",
    "li = sns.countplot(y=\"NAME\", data=ai, palette=\"husl\",\n",
    "              order=companies3.NAME.value_counts().iloc[-5:].index)\n",
    "li.set(xlabel='Count', ylabel='State')"
   ]
  }
 ],
 "metadata": {
  "kernelspec": {
   "display_name": "Python 3",
   "language": "python",
   "name": "python3"
  },
  "language_info": {
   "name": "python",
   "version": "3.11.0 (main, Oct 24 2022, 18:26:48) [MSC v.1933 64 bit (AMD64)]"
  },
  "orig_nbformat": 4,
  "vscode": {
   "interpreter": {
    "hash": "ef9e8e30ce2d06724375ee98cb32b3df252469ccdc9bda22e137939881c33ba7"
   }
  }
 },
 "nbformat": 4,
 "nbformat_minor": 2
}
